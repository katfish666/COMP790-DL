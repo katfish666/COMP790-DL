{
 "cells": [
  {
   "cell_type": "code",
   "execution_count": 2,
   "metadata": {},
   "outputs": [
    {
     "data": {
      "text/html": [
       "<style>.container { width:90% !important; }</style>"
      ],
      "text/plain": [
       "<IPython.core.display.HTML object>"
      ]
     },
     "metadata": {},
     "output_type": "display_data"
    }
   ],
   "source": [
    "from IPython.core.display import display, HTML\n",
    "display(HTML(\"<style>.container { width:90% !important; }</style>\"))"
   ]
  },
  {
   "cell_type": "code",
   "execution_count": 3,
   "metadata": {},
   "outputs": [
    {
     "name": "stdout",
     "output_type": "stream",
     "text": [
      "cuda:0\n"
     ]
    }
   ],
   "source": [
    "%matplotlib inline\n",
    "import re\n",
    "import torch\n",
    "import collections\n",
    "import random\n",
    "import math\n",
    "import time\n",
    "from torch import nn\n",
    "import matplotlib.pyplot as plt\n",
    "# import numpy as np\n",
    "# from torch.utils.data.dataloader import DataLoader\n",
    "# import torch.utils.data as data_utils\n",
    "from tqdm.notebook import tqdm\n",
    "\n",
    "from d2l import torch as d2l\n",
    "\n",
    "from torch.nn import functional as F\n",
    "\n",
    "seedy = 666\n",
    "device = torch.device(\"cuda:0\" if torch.cuda.is_available() else \"cpu\")\n",
    "print(device)"
   ]
  },
  {
   "cell_type": "markdown",
   "metadata": {},
   "source": [
    "### All of the code below is straight from the textbook and/or my brain. But mostly the textbook, like pure copypasta."
   ]
  },
  {
   "cell_type": "markdown",
   "metadata": {},
   "source": [
    "## 1) Download and tokenize the Shakespeare dataset at a chracter level. "
   ]
  },
  {
   "cell_type": "code",
   "execution_count": 4,
   "metadata": {},
   "outputs": [
    {
     "name": "stdout",
     "output_type": "stream",
     "text": [
      "Example tokens: ['t', 'h', 'e', ' ', 'p', 'r', 'o', 'j', 'e', 'c', 't', ' ', 'g', 'u', 't', 'e', 'n', 'b', 'e', 'r', 'g', ' ', 'e', 'b', 'o', 'o', 'k', ' ', 'o', 'f', ' ', 't', 'h', 'e', ' ', 'c', 'o', 'm', 'p', 'l', 'e', 't', 'e', ' ', 'w', 'o', 'r', 'k', 's', ' ', 'o', 'f', ' ', 'w', 'i', 'l', 'l', 'i', 'a', 'm', ' ', 's', 'h', 'a', 'k', 'e', 's', 'p', 'e', 'a', 'r', 'e', ' ', 'b', 'y', ' ', 'w', 'i', 'l', 'l', 'i', 'a', 'm', ' ', 's', 'h', 'a', 'k', 'e', 's', 'p', 'e', 'a', 'r', 'e']\n"
     ]
    }
   ],
   "source": [
    "f_name = \"shakespeare.txt\"\n",
    "\n",
    "def read_it():  #@save\n",
    "    with open(f_name, 'r') as f:\n",
    "        lines = f.readlines()\n",
    "    return [re.sub('[^A-Za-z]+', ' ', line).strip().lower() for line in lines]\n",
    "\n",
    "def tokenize(lines, token='char'):  #@save\n",
    "    if token == 'word':\n",
    "        return [line.split() for line in lines]\n",
    "    elif token == 'char':\n",
    "        return [list(line) for line in lines]\n",
    "    else:\n",
    "        print('ERROR: unknown token type: ' + token)\n",
    "\n",
    "## WE HAVE TOKENIZED !!!\n",
    "content = read_it()\n",
    "tokens = tokenize(content)\n",
    "print(\"Example tokens:\",tokens[0])"
   ]
  },
  {
   "cell_type": "markdown",
   "metadata": {},
   "source": [
    "## 2) Train a \"vanilla\" RNN (as described in chapter 8 of the textbook on the Shakespeare dataset. Report the training loss and generate some samples from the model at the end of training.\n"
   ]
  },
  {
   "cell_type": "markdown",
   "metadata": {},
   "source": [
    "### <font color=blue> Here is code from the textbook that deals with the corpus and its associated vocab."
   ]
  },
  {
   "cell_type": "code",
   "execution_count": 5,
   "metadata": {},
   "outputs": [],
   "source": [
    "class Vocab:  \n",
    "    def __init__(self, tokens=None, min_freq=0, reserved_tokens=None):\n",
    "        if tokens is None:\n",
    "            tokens = []\n",
    "        if reserved_tokens is None:\n",
    "            reserved_tokens = []\n",
    "\n",
    "        counter = count_corpus(tokens)\n",
    "        self.token_freqs = sorted(counter.items(), key=lambda x: x[1],reverse=True)\n",
    "        \n",
    "        self.unk = 0\n",
    "        uniq_tokens = ['<unk>'] + reserved_tokens\n",
    "        uniq_tokens += [token for token, freq in self.token_freqs if freq >= min_freq and token not in uniq_tokens]\n",
    "        \n",
    "        self.idx_to_token, self.token_to_idx = [], dict()\n",
    "        for token in uniq_tokens:\n",
    "            self.idx_to_token.append(token)\n",
    "            self.token_to_idx[token] = len(self.idx_to_token) - 1\n",
    "\n",
    "    def __len__(self):\n",
    "        return len(self.idx_to_token)\n",
    "    def __getitem__(self, tokens):\n",
    "        if not isinstance(tokens, (list, tuple)):\n",
    "            return self.token_to_idx.get(tokens, self.unk)\n",
    "        return [self.__getitem__(token) for token in tokens]\n",
    "    def to_tokens(self, indices):\n",
    "        if not isinstance(indices, (list, tuple)):\n",
    "            return self.idx_to_token[indices]\n",
    "        return [self.idx_to_token[index] for index in indices]\n",
    "\n",
    "def count_corpus(tokens):  \n",
    "    if len(tokens) == 0 or isinstance(tokens[0], list):\n",
    "        tokens = [token for line in tokens for token in line]\n",
    "    return collections.Counter(tokens)\n",
    "\n",
    "def load_corpus(max_tokens=-1):\n",
    "    lines = read_it()\n",
    "    tokens = tokenize(lines, 'char')\n",
    "    vocab = Vocab(tokens)\n",
    "    corpus = [vocab[token] for line in tokens for token in line]\n",
    "    if max_tokens > 0:\n",
    "        corpus = corpus[:max_tokens]\n",
    "    return corpus, vocab"
   ]
  },
  {
   "cell_type": "code",
   "execution_count": 6,
   "metadata": {},
   "outputs": [],
   "source": [
    "def seq_data_iter_sequential(corpus, batch_size, num_steps):  #@save\n",
    "    \"\"\"Generate a minibatch of subsequences using sequential partitioning.\"\"\"\n",
    "    # Start with a random offset to partition a sequence\n",
    "    offset = random.randint(0, num_steps)\n",
    "    num_tokens = ((len(corpus) - offset - 1) // batch_size) * batch_size\n",
    "    Xs = torch.tensor(corpus[offset: offset + num_tokens])\n",
    "    Ys = torch.tensor(corpus[offset + 1: offset + 1 + num_tokens])\n",
    "    Xs, Ys = Xs.reshape(batch_size, -1), Ys.reshape(batch_size, -1)\n",
    "    num_batches = Xs.shape[1] // num_steps\n",
    "    for i in range(0, num_steps * num_batches, num_steps):\n",
    "        X = Xs[:, i: i + num_steps]\n",
    "        Y = Ys[:, i: i + num_steps]\n",
    "        yield X, Y"
   ]
  },
  {
   "cell_type": "code",
   "execution_count": 7,
   "metadata": {},
   "outputs": [],
   "source": [
    "class SeqDataLoader:  \n",
    "    \"\"\"An iterator to load sequence data.\"\"\"\n",
    "    def __init__(self, batch_size, num_steps, use_random_iter, max_tokens):\n",
    "        if use_random_iter:\n",
    "            self.data_iter_fn = seq_data_iter_random\n",
    "        else:\n",
    "            self.data_iter_fn = seq_data_iter_sequential\n",
    "        self.corpus, self.vocab = load_corpus(max_tokens)\n",
    "        self.batch_size, self.num_steps = batch_size, num_steps\n",
    "\n",
    "    def __iter__(self):\n",
    "        return self.data_iter_fn(self.corpus, self.batch_size, self.num_steps)"
   ]
  },
  {
   "cell_type": "code",
   "execution_count": 8,
   "metadata": {},
   "outputs": [],
   "source": [
    "def load_data(batch_size, num_steps, use_random_iter=False, max_tokens=8000000):\n",
    "    \"\"\"Return the iterator and the vocabulary of thedataset.\"\"\"\n",
    "    data_iter = SeqDataLoader(\n",
    "        batch_size, num_steps, use_random_iter, max_tokens)\n",
    "    return data_iter, data_iter.vocab"
   ]
  },
  {
   "cell_type": "code",
   "execution_count": 9,
   "metadata": {},
   "outputs": [],
   "source": [
    "def predict(prefix, num_preds, net, vocab, device):  #@save\n",
    "    \"\"\"Generate new characters following the `prefix`.\"\"\"\n",
    "    state = net.begin_state(batch_size=1, device=device)\n",
    "    outputs = [vocab[prefix[0]]]\n",
    "    get_input = lambda: torch.tensor([outputs[-1]], device=device).reshape(\n",
    "        (1, 1))\n",
    "    for y in prefix[1:]:  # Warm-up period\n",
    "        _, state = net(get_input(), state)\n",
    "        outputs.append(vocab[y])\n",
    "    for _ in range(num_preds):  # Predict `num_preds` steps\n",
    "        y, state = net(get_input(), state)\n",
    "        outputs.append(int(y.argmax(dim=1).reshape(1)))\n",
    "    return ''.join([vocab.idx_to_token[i] for i in outputs])"
   ]
  },
  {
   "cell_type": "code",
   "execution_count": 10,
   "metadata": {},
   "outputs": [],
   "source": [
    "def grad_clipping(net, theta):  #@save\n",
    "    \"\"\"Clip the gradient.\"\"\"\n",
    "    if isinstance(net, nn.Module):\n",
    "        params = [p for p in net.parameters() if p.requires_grad]\n",
    "    else:\n",
    "        params = net.params\n",
    "    norm = torch.sqrt(sum(torch.sum((p.grad ** 2)) for p in params))\n",
    "    if norm > theta:\n",
    "        for param in params:\n",
    "            param.grad[:] *= theta / norm"
   ]
  },
  {
   "cell_type": "code",
   "execution_count": 11,
   "metadata": {},
   "outputs": [],
   "source": [
    "def train_epoch_ch8(net, train_iter, loss, updater, device, use_random_iter):\n",
    "    \"\"\"Train a net within one epoch (defined in Chapter 8).\"\"\"\n",
    "    state, timer = None, d2l.Timer()\n",
    "    metric = d2l.Accumulator(2)  # Sum of training loss, no. of tokens\n",
    "    for X, Y in train_iter:\n",
    "        if state is None or use_random_iter:\n",
    "            # Initialize `state` when either it is the first iteration or\n",
    "            # using random sampling\n",
    "            state = net.begin_state(batch_size=X.shape[0], device=device)\n",
    "        else:\n",
    "            if isinstance(net, nn.Module) and not isinstance(state, tuple):\n",
    "                # `state` is a tensor for `nn.GRU`\n",
    "                state.detach_()\n",
    "            else:\n",
    "                # `state` is a tuple of tensors for `nn.LSTM` and\n",
    "                # for our custom scratch implementation\n",
    "                for s in state:\n",
    "                    s.detach_()\n",
    "        y = Y.T.reshape(-1)\n",
    "        X, y = X.to(device), y.to(device)\n",
    "        y_hat, state = net(X, state)\n",
    "        l = loss(y_hat, y.long()).mean()\n",
    "        if isinstance(updater, torch.optim.Optimizer):\n",
    "            updater.zero_grad()\n",
    "            l.backward()\n",
    "            grad_clipping(net, 1)\n",
    "            updater.step()\n",
    "        else:\n",
    "            l.backward()\n",
    "            grad_clipping(net, 1)\n",
    "            # Since the `mean` function has been invoked\n",
    "            updater(batch_size=1)\n",
    "        metric.add(l * y.numel(), y.numel())\n",
    "#     return math.exp(metric[0] / metric[1]), metric[1] / timer.stop()\n",
    "    return l ## We want to return loss !!!"
   ]
  },
  {
   "cell_type": "code",
   "execution_count": 12,
   "metadata": {},
   "outputs": [],
   "source": [
    "def train_ch8(net, train_iter, vocab, lr, num_epochs, device,\n",
    "              use_random_iter=False):\n",
    "    \"\"\"Train a model (defined in Chapter 8).\"\"\"\n",
    "    loss = nn.CrossEntropyLoss()\n",
    "#     animator = d2l.Animator(xlabel='epoch', ylabel='perplexity',\n",
    "#                             legend=['train'], xlim=[10, num_epochs])\n",
    "    # Initialize\n",
    "    if isinstance(net, nn.Module):\n",
    "        updater = torch.optim.SGD(net.parameters(), lr)\n",
    "    else:\n",
    "        updater = lambda batch_size: d2l.sgd(net.params, lr, batch_size)\n",
    "    predict_it = lambda prefix: predict(prefix, 50, net, vocab, device)\n",
    "    \n",
    "    # Train and predict\n",
    "    losses = []\n",
    "    for epoch in tqdm(range(num_epochs), total=num_epochs):\n",
    "#         ppl, speed = train_epoch_ch8(\n",
    "#             net, train_iter, loss, updater, device, use_random_iter)\n",
    "        this_loss = train_epoch_ch8(\n",
    "            net, train_iter, loss, updater, device, use_random_iter)\n",
    "    \n",
    "        if (epoch + 1) % 10 == 0:\n",
    "            print(predict_it('my love'))\n",
    "#             animator.add(epoch + 1, [ppl])\n",
    "        losses.append(this_loss)\n",
    "\n",
    "#     print(f'perplexity {ppl:.1f}, {speed:.1f} tokens/sec on {str(device)}')\n",
    "    print(f'loss {this_loss:5.3f}')\n",
    "\n",
    "    print(predict_it('my love'))\n",
    "    print(predict_it('where art thou'))\n",
    "    \n",
    "    return losses"
   ]
  },
  {
   "cell_type": "code",
   "execution_count": 13,
   "metadata": {},
   "outputs": [],
   "source": [
    "class RNNModel(nn.Module):\n",
    "    \"\"\"The RNN model.\"\"\"\n",
    "    def __init__(self, rnn_layer, vocab_size, **kwargs):\n",
    "        super(RNNModel, self).__init__(**kwargs)\n",
    "        self.rnn = rnn_layer\n",
    "        self.vocab_size = vocab_size\n",
    "        self.num_hiddens = self.rnn.hidden_size\n",
    "        # If the RNN is bidirectional (to be introduced later),\n",
    "        # `num_directions` should be 2, else it should be 1.\n",
    "        if not self.rnn.bidirectional:\n",
    "            self.num_directions = 1\n",
    "            self.linear = nn.Linear(self.num_hiddens, self.vocab_size)\n",
    "        else:\n",
    "            self.num_directions = 2\n",
    "            self.linear = nn.Linear(self.num_hiddens * 2, self.vocab_size)\n",
    "\n",
    "    def forward(self, inputs, state):\n",
    "        X = F.one_hot(inputs.T.long(), self.vocab_size)\n",
    "        X = X.to(torch.float32)\n",
    "        Y, state = self.rnn(X, state)\n",
    "        # The fully connected layer will first change the shape of `Y` to\n",
    "        # (`num_steps` * `batch_size`, `num_hiddens`). Its output shape is\n",
    "        # (`num_steps` * `batch_size`, `vocab_size`).\n",
    "        output = self.linear(Y.reshape((-1, Y.shape[-1])))\n",
    "        return output, state\n",
    "\n",
    "    def begin_state(self, device, batch_size=1):\n",
    "        if not isinstance(self.rnn, nn.LSTM):\n",
    "            # `nn.GRU` takes a tensor as hidden state\n",
    "            return  torch.zeros((self.num_directions * self.rnn.num_layers,\n",
    "                                 batch_size, self.num_hiddens),\n",
    "                                device=device)\n",
    "        else:\n",
    "            # `nn.LSTM` takes a tuple of hidden states\n",
    "            return (torch.zeros((\n",
    "                self.num_directions * self.rnn.num_layers,\n",
    "                batch_size, self.num_hiddens), device=device),\n",
    "                    torch.zeros((\n",
    "                        self.num_directions * self.rnn.num_layers,\n",
    "                        batch_size, self.num_hiddens), device=device))"
   ]
  },
  {
   "cell_type": "code",
   "execution_count": 130,
   "metadata": {},
   "outputs": [],
   "source": [
    "batch_size, num_steps = 32, 35\n",
    "train_iter, vocab = load_data(batch_size, num_steps)\n",
    "\n",
    "num_hiddens = 256\n",
    "rnn_layer = nn.RNN(len(vocab), num_hiddens)\n",
    "\n",
    "net = RNNModel(rnn_layer, vocab_size=len(vocab))\n",
    "net = net.to(device)\n",
    "\n",
    "num_epochs = 80\n",
    "lr = 1"
   ]
  },
  {
   "cell_type": "code",
   "execution_count": 131,
   "metadata": {},
   "outputs": [
    {
     "data": {
      "application/vnd.jupyter.widget-view+json": {
       "model_id": "4bddc2483e164035bb2edc571859c0d0",
       "version_major": 2,
       "version_minor": 0
      },
      "text/plain": [
       "HBox(children=(FloatProgress(value=0.0, max=80.0), HTML(value='')))"
      ]
     },
     "metadata": {},
     "output_type": "display_data"
    },
    {
     "name": "stdout",
     "output_type": "stream",
     "text": [
      "my love to the palaceenter the land the land the land the\n",
      "my love the states the fair discorn d the faith i see the\n",
      "my love to make a company our life and the fair discordin\n",
      "my love to make a states the search your company which wi\n",
      "my love to make the part of the part of the part of the p\n",
      "my love to make the pardon the stay my lord the stay my l\n",
      "my love to the prove to the prove to the prove to the pro\n",
      "my love s sight s sight s sight s sight s sight s sight s\n",
      "\n",
      "loss 1.693\n",
      "my love s sight s sight s sight s sight s sight s sight s\n",
      "where art thou did come to make the pardon the pardon the pardon\n",
      "24.973 mins\n"
     ]
    }
   ],
   "source": [
    "s = time.time()\n",
    "losses = train_ch8(net, train_iter, vocab, lr, num_epochs, device)\n",
    "e = time.time()\n",
    "print(\"%5.3f mins\" % ((e-s)/60))"
   ]
  },
  {
   "cell_type": "code",
   "execution_count": null,
   "metadata": {},
   "outputs": [],
   "source": []
  },
  {
   "cell_type": "code",
   "execution_count": null,
   "metadata": {},
   "outputs": [],
   "source": []
  },
  {
   "cell_type": "code",
   "execution_count": null,
   "metadata": {},
   "outputs": [],
   "source": []
  },
  {
   "cell_type": "code",
   "execution_count": 132,
   "metadata": {},
   "outputs": [],
   "source": [
    "run = \"2\""
   ]
  },
  {
   "cell_type": "code",
   "execution_count": 133,
   "metadata": {},
   "outputs": [
    {
     "data": {
      "image/png": "[encoded data removed]",
      "text/plain": [
       "<Figure size 540x360 with 1 Axes>"
      ]
     },
     "metadata": {
      "needs_background": "light"
     },
     "output_type": "display_data"
    }
   ],
   "source": [
    "import matplotlib.pyplot as plt\n",
    "%matplotlib inline   \n",
    "\n",
    "plt.rc('font', size=16) \n",
    "plt.figure(figsize=(7.5,5))\n",
    "\n",
    "plt.plot(losses,label='Train loss',c='blue')\n",
    "\n",
    "plt.xlabel(\"Epoch\")\n",
    "plt.title(\"Training loss for vanilla RNN, 80 epochs\")\n",
    "plt.legend(loc='upper right')\n",
    "plt.savefig(\"hw6_losses_rnn_%s\" % run)\n",
    "plt.show()"
   ]
  },
  {
   "cell_type": "markdown",
   "metadata": {},
   "source": [
    "### <font color=blue> Here are some predictions."
   ]
  },
  {
   "cell_type": "code",
   "execution_count": 134,
   "metadata": {},
   "outputs": [
    {
     "name": "stdout",
     "output_type": "stream",
     "text": [
      "1) hello  ... see the pardon the pardon the pardon the pardon the pardon the pardon \n",
      "2) my name is  ... the pardon the pardon the pardon the pardon the pardon the pardon the \n",
      "3) i love cheese  ... of the pardon the pardon the pardon the pardon the pardon the pardon t\n",
      "4) i cannot believe it is not butter  ... the pardon the pardon the pardon the pardon the pardon the pardon the \n",
      "5) a cat will  ... not so shall be so sir i shall be so sir i shall be so sir i shall be \n",
      "6) forks ...  and the pardon the pardon the pardon the pardon the pardon the pardon\n",
      "7) anger ...  than the pardon the pardon the pardon the pardon the pardon the pardo\n"
     ]
    }
   ],
   "source": [
    "tests = [\"hello \",\n",
    "         \"my name is \",\n",
    "         \"i love cheese \",\n",
    "         \"i cannot believe it is not butter \",\n",
    "         \"a cat will \",\n",
    "         \"forks\",\n",
    "         \"anger\"]\n",
    "\n",
    "for i,test in enumerate(tests):\n",
    "    prediction = predict(test, 70, net, vocab, device)[len(test):]\n",
    "    print(\"%d) %s ... %s\" % (i+1,test,prediction))"
   ]
  },
  {
   "cell_type": "raw",
   "metadata": {},
   "source": [
    "1) hello  ... the state sir to the state sir to the state sir to the state sir to th\n",
    "2) my name is  ... to the parties and the signier and the signier and the signier and the\n",
    "3) i love cheese  ... to the parties and the signier and the signier and the signier and the\n",
    "4) i cannot believe it is not butter  ... to the parties and the signier and the signier and the signier and the\n",
    "5) a cat will  ... be the state sir to the state sir to the state sir to the state sir to\n",
    "6) forks ...  the state sir to the state sir to the state sir to the state sir to t\n",
    "7) anger ...  d to the parties and the signier and the signier and the signier and \n",
    "\n",
    "80 epochs:\n",
    "1) hello  ... see the pardon the pardon the pardon the pardon the pardon the pardon \n",
    "2) my name is  ... the pardon the pardon the pardon the pardon the pardon the pardon the \n",
    "3) i love cheese  ... of the pardon the pardon the pardon the pardon the pardon the pardon t\n",
    "4) i cannot believe it is not butter  ... the pardon the pardon the pardon the pardon the pardon the pardon the \n",
    "5) a cat will  ... not so shall be so sir i shall be so sir i shall be so sir i shall be \n",
    "6) forks ...  and the pardon the pardon the pardon the pardon the pardon the pardon\n",
    "7) anger ...  than the pardon the pardon the pardon the pardon the pardon the pardo"
   ]
  },
  {
   "cell_type": "code",
   "execution_count": 66,
   "metadata": {},
   "outputs": [],
   "source": [
    "# with open('losses_rnn.txt', 'w') as the_file:\n",
    "#     for line in losses:\n",
    "#         the_file.write(str(line.item()))"
   ]
  },
  {
   "cell_type": "markdown",
   "metadata": {},
   "source": [
    "\n",
    "\n",
    "## 3) Train a GRU RNN (as described in chapter 9 of [the textbook](http://d2l.ai)) on the Shakespeare datatset. Is the final training loss higher or lower than the vanilla RNN? Are the samples from the model more or less realistic?\n"
   ]
  },
  {
   "cell_type": "code",
   "execution_count": 136,
   "metadata": {},
   "outputs": [],
   "source": [
    "def init_gru_state(batch_size, num_hiddens, device):\n",
    "    return (torch.zeros((batch_size, num_hiddens), device=device), )"
   ]
  },
  {
   "cell_type": "code",
   "execution_count": null,
   "metadata": {},
   "outputs": [
    {
     "data": {
      "application/vnd.jupyter.widget-view+json": {
       "model_id": "5b58e1381a004944b680f2be7c564d53",
       "version_major": 2,
       "version_minor": 0
      },
      "text/plain": [
       "HBox(children=(FloatProgress(value=0.0, max=80.0), HTML(value='')))"
      ]
     },
     "metadata": {},
     "output_type": "display_data"
    }
   ],
   "source": [
    "num_hiddens = 256\n",
    "num_steps = 35\n",
    "train_iter, vocab = load_data(batch_size, num_steps)\n",
    "\n",
    "batch_size = 32\n",
    "num_epochs = 80\n",
    "lr = 1\n",
    "\n",
    "gru_layer = nn.GRU(len(vocab), num_hiddens)\n",
    "model = RNNModel(gru_layer, len(vocab))\n",
    "model = model.to(device)\n",
    "losses = train_ch8(model, train_iter, vocab, lr, num_epochs, device)"
   ]
  },
  {
   "cell_type": "code",
   "execution_count": 106,
   "metadata": {},
   "outputs": [
    {
     "data": {
      "image/png": "[encoded data removed]",
      "text/plain": [
       "<Figure size 540x360 with 1 Axes>"
      ]
     },
     "metadata": {
      "needs_background": "light"
     },
     "output_type": "display_data"
    }
   ],
   "source": [
    "import matplotlib.pyplot as plt\n",
    "%matplotlib inline   \n",
    "\n",
    "plt.rc('font', size=16) \n",
    "plt.figure(figsize=(7.5,5))\n",
    "\n",
    "plt.plot(losses,label='Train loss',c='blue')\n",
    "\n",
    "plt.xlabel(\"Epoch\")\n",
    "plt.title(\"Training loss for GRU, 40 epochs\")\n",
    "plt.legend(loc='upper right')\n",
    "plt.savefig(\"hw6_losses_gru\")\n",
    "plt.show()"
   ]
  },
  {
   "cell_type": "code",
   "execution_count": 107,
   "metadata": {},
   "outputs": [
    {
     "name": "stdout",
     "output_type": "stream",
     "text": [
      "1) hello  ... then the court of the common part of the project gutenberg tm electron\n",
      "2) my name is  ... to the court of the court of the court of the court of the court of th\n",
      "3) i love cheese  ... the court of the court of the court of the court of the court of the c\n",
      "4) i cannot believe it is not butter  ... thee to the court of the court of the court of the court of the court \n",
      "5) a cat will  ... not see thee to the court of the court of the court of the court of th\n",
      "6) forks ... econd citizen and the gods to the court of the court of the court of t\n",
      "7) anger ...  to the court of the court of the court of the court of the court of t\n"
     ]
    }
   ],
   "source": [
    "tests = [\"hello \",\n",
    "         \"my name is \",\n",
    "         \"i love cheese \",\n",
    "         \"i cannot believe it is not butter \",\n",
    "         \"a cat will \",\n",
    "         \"forks\",\n",
    "         \"anger\"]\n",
    "\n",
    "for i,test in enumerate(tests):\n",
    "    prediction = predict(test, 70, model, vocab, device)[len(test):]\n",
    "    print(\"%d) %s ... %s\" % (i+1,test,prediction))"
   ]
  },
  {
   "cell_type": "raw",
   "metadata": {},
   "source": [
    "1) hello  ... then the court of the common part of the project gutenberg tm electron\n",
    "2) my name is  ... to the court of the court of the court of the court of the court of th\n",
    "3) i love cheese  ... the court of the court of the court of the court of the court of the c\n",
    "4) i cannot believe it is not butter  ... thee to the court of the court of the court of the court of the court \n",
    "5) a cat will  ... not see thee to the court of the court of the court of the court of th\n",
    "6) forks ... econd citizen and the gods to the court of the court of the court of t\n",
    "7) anger ...  to the court of the court of the court of the court of the court of t"
   ]
  },
  {
   "cell_type": "code",
   "execution_count": null,
   "metadata": {},
   "outputs": [],
   "source": []
  },
  {
   "cell_type": "code",
   "execution_count": null,
   "metadata": {},
   "outputs": [],
   "source": []
  },
  {
   "cell_type": "code",
   "execution_count": null,
   "metadata": {},
   "outputs": [],
   "source": []
  },
  {
   "cell_type": "markdown",
   "metadata": {},
   "source": [
    "## 4) Find a smaller, simpler dataset than the Shakespeare data (you can find some ideas in Andrej's blog post, but feel free to get creative!) and train either the vanilla or GRU RNN on it instead. Is the final training loss higher or lower than it was for the Shakespeare data?\n"
   ]
  },
  {
   "cell_type": "code",
   "execution_count": 14,
   "metadata": {},
   "outputs": [
    {
     "name": "stdout",
     "output_type": "stream",
     "text": [
      "Example tokens: ['t', 'h', 'e', ' ', 'p', 'r', 'o', 'j', 'e', 'c', 't', ' ', 'g', 'u', 't', 'e', 'n', 'b', 'e', 'r', 'g', ' ', 'e', 'b', 'o', 'o', 'k', ' ', 'o', 'f', ' ', 'a', ' ', 'm', 'o', 'd', 'e', 's', 't', ' ', 'p', 'r', 'o', 'p', 'o', 's', 'a', 'l', ' ', 'b', 'y', ' ', 'j', 'o', 'n', 'a', 't', 'h', 'a', 'n', ' ', 's', 'w', 'i', 'f', 't']\n"
     ]
    }
   ],
   "source": [
    "## Data time.\n",
    "\n",
    "f_name = \"a_modest_proposal.txt\"\n",
    "\n",
    "def read_it():  #@save\n",
    "    with open(f_name, 'r') as f:\n",
    "        lines = f.readlines()\n",
    "    return [re.sub('[^A-Za-z]+', ' ', line).strip().lower() for line in lines]\n",
    "\n",
    "def tokenize(lines, token='char'):  #@save\n",
    "    if token == 'word':\n",
    "        return [line.split() for line in lines]\n",
    "    elif token == 'char':\n",
    "        return [list(line) for line in lines]\n",
    "    else:\n",
    "        print('ERROR: unknown token type: ' + token)\n",
    "\n",
    "## WE HAVE TOKENIZED !!!\n",
    "content = read_it()\n",
    "tokens = tokenize(content)\n",
    "print(\"Example tokens:\",tokens[0])"
   ]
  },
  {
   "cell_type": "code",
   "execution_count": 28,
   "metadata": {},
   "outputs": [
    {
     "data": {
      "application/vnd.jupyter.widget-view+json": {
       "model_id": "6b79cc5344ef486489cf7dfb6ddfc19c",
       "version_major": 2,
       "version_minor": 0
      },
      "text/plain": [
       "HBox(children=(FloatProgress(value=0.0, max=240.0), HTML(value='')))"
      ]
     },
     "metadata": {},
     "output_type": "display_data"
    },
    {
     "name": "stdout",
     "output_type": "stream",
     "text": [
      "my love the the the the the the the the the the the the t\n",
      "my love the the the the the the the the the the the the t\n",
      "my love the project gutenberg the project gutenberg the p\n",
      "my love the project gutenberg tm electronic work the proj\n",
      "my lover the project gutenberg tm electronic work the pro\n",
      "my loved the sull the project gutenberg tm electronic wor\n",
      "my loved the more the project gutenberg tm electronic wor\n",
      "my loved the sure of the project gutenberg tm electronic \n",
      "my lovethers and the foundation to the person a copy in t\n",
      "my loved when they are of a mell of the project gutenberg\n",
      "my love they well concomnted at will hearly desprited to \n",
      "my loves thengnuce at a your glatted the origing out prov\n",
      "my loves the vaid donations to and propisionsf indemnity \n",
      "my loves thenongrease to be doun at least to putail new r\n",
      "my loves who drebution as sellow that in his time the bod\n",
      "my loves where would not agree to be boundby the terms of\n",
      "my loves whone shat it is states with thisebook or anyoth\n",
      "my loves whenever and therefore let not and me romales it\n",
      "my loves who wase children alr wagnur of compliance to se\n",
      "my love a leasolyable to the recaine shally the terms of \n",
      "my loves than de ana sower with the project gutenberg tml\n",
      "my love aplesson themeldom this agreement you may obtain \n",
      "my love able work are not be groas to ithaptesenthirgly h\n",
      "my loven which ar ord included a secar or distribute or i\n",
      "\n",
      "loss 0.236\n",
      "my loven which ar ord included a secar or distribute or i\n",
      "where art thousand by the apprich of a formand distribute or ire\n"
     ]
    }
   ],
   "source": [
    "num_hiddens = 256\n",
    "batch_size = 32\n",
    "num_steps = 35\n",
    "train_iter, vocab = load_data(batch_size, num_steps)\n",
    "\n",
    "num_epochs = 240\n",
    "lr = 1\n",
    "\n",
    "gru_layer = nn.GRU(len(vocab), num_hiddens)\n",
    "model = RNNModel(gru_layer, len(vocab))\n",
    "model = model.to(device)\n",
    "losses = train_ch8(model, train_iter, vocab, lr, num_epochs, device)"
   ]
  },
  {
   "cell_type": "code",
   "execution_count": 29,
   "metadata": {},
   "outputs": [
    {
     "data": {
      "image/png": "[encoded data removed]",
      "text/plain": [
       "<Figure size 540x360 with 1 Axes>"
      ]
     },
     "metadata": {
      "needs_background": "light"
     },
     "output_type": "display_data"
    }
   ],
   "source": [
    "import matplotlib.pyplot as plt\n",
    "%matplotlib inline   \n",
    "\n",
    "plt.rc('font', size=13) \n",
    "plt.figure(figsize=(7.5,5))\n",
    "\n",
    "plt.plot(losses,label='Train loss',c='blue')\n",
    "\n",
    "plt.xlabel(\"Epoch\")\n",
    "plt.title(\"Training loss for GRU on A Modest Proposal, 240 epoch\")\n",
    "plt.legend(loc='upper right')\n",
    "plt.savefig(\"hw6_losses_gru_modest_240e\")\n",
    "plt.show()"
   ]
  },
  {
   "cell_type": "code",
   "execution_count": 30,
   "metadata": {},
   "outputs": [
    {
     "name": "stdout",
     "output_type": "stream",
     "text": [
      "tensor(0.2360, device='cuda:0', grad_fn=<MeanBackward0>)\n"
     ]
    }
   ],
   "source": [
    "print(losses[-1])"
   ]
  },
  {
   "cell_type": "code",
   "execution_count": 22,
   "metadata": {},
   "outputs": [
    {
     "name": "stdout",
     "output_type": "stream",
     "text": [
      "1) hello  ... great the project gutenberg tm electronic work in any the work or any \n",
      "2) my name is  ... the foundation the project gutenberg tm electronic work in any the wor\n",
      "3) i love cheese  ... the for the project gutenberg tm electronic work in any the work or an\n",
      "4) i cannot believe it is not butter  ... to make the fore the work or any the foundation the project gutenberg \n",
      "5) a cat will  ... be some the work or any the foundation the project gutenberg tm electr\n",
      "6) forks ...  in the projectgutenberg tm electronic work in any the work or any the\n",
      "7) anger ...  with the project gutenberg tm electronic work in any the work or any \n"
     ]
    }
   ],
   "source": [
    "tests = [\"hello \",\n",
    "         \"my name is \",\n",
    "         \"i love cheese \",\n",
    "         \"i cannot believe it is not butter \",\n",
    "         \"a cat will \",\n",
    "         \"forks\",\n",
    "         \"anger\"]\n",
    "\n",
    "for i,test in enumerate(tests):\n",
    "    prediction = predict(test, 70, model, vocab, device)[len(test):]\n",
    "    print(\"%d) %s ... %s\" % (i+1,test,prediction))"
   ]
  },
  {
   "cell_type": "raw",
   "metadata": {},
   "source": [
    "80 epochs - - - - - - - - \n",
    "\n",
    "FINAL LOSS: 1.2010\n",
    "\n",
    "1) hello  ... great the project gutenberg tm electronic work in any the work or any \n",
    "2) my name is  ... the foundation the project gutenberg tm electronic work in any the wor\n",
    "3) i love cheese  ... the for the project gutenberg tm electronic work in any the work or an\n",
    "4) i cannot believe it is not butter  ... to make the fore the work or any the foundation the project gutenberg \n",
    "5) a cat will  ... be some the work or any the foundation the project gutenberg tm electr\n",
    "6) forks ...  in the projectgutenberg tm electronic work in any the work or any the\n",
    "7) anger ...  with the project gutenberg tm electronic work in any the work or any \n",
    "\n",
    "\n",
    "240 epochs - - - - - - - - \n",
    "\n",
    "FINAL LOSS: 0.2360\n",
    "\n",
    "1) hello  ... kees donating ligetions propest g it a sexcept that everiempo at a lis\n",
    "2) my name is  ... bale a refund of the work and chosen dan be all to be a oftheir accoss\n",
    "3) i love cheese  ... that day dentrilttion of project gutenberg ebook a modest proposal whi\n",
    "4) i cannot believe it is not butter  ... thougate your proposal which as contersed to any without paying consid\n",
    "5) a cat will  ... be found equally thoughts and the vadefts swould be we cannot evel are\n",
    "6) forks ...  of the projectgutenberg tm trademark and any other party distributing\n",
    "7) anger ...  hise the foundation thetrademark owner any age with out above the mak"
   ]
  }
 ],
 "metadata": {
  "kernelspec": {
   "display_name": "Python 3",
   "language": "python",
   "name": "python3"
  },
  "language_info": {
   "codemirror_mode": {
    "name": "ipython",
    "version": 3
   },
   "file_extension": ".py",
   "mimetype": "text/x-python",
   "name": "python",
   "nbconvert_exporter": "python",
   "pygments_lexer": "ipython3",
   "version": "3.8.3"
  }
 },
 "nbformat": 4,
 "nbformat_minor": 4
}
