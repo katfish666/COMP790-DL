{
 "cells": [
  {
   "cell_type": "code",
   "execution_count": 1,
   "metadata": {},
   "outputs": [
    {
     "data": {
      "text/html": [
       "<style>.container { width:100% !important; }</style>"
      ],
      "text/plain": [
       "<IPython.core.display.HTML object>"
      ]
     },
     "metadata": {},
     "output_type": "display_data"
    }
   ],
   "source": [
    "from IPython.core.display import display, HTML\n",
    "display(HTML(\"<style>.container { width:100% !important; }</style>\"))"
   ]
  },
  {
   "cell_type": "markdown",
   "metadata": {},
   "source": [
    "# Homework 8\n",
    "\n",
    "In this homework, you will be using a form of attention called *attention pooling* to solve the \"addition problem\". The addition problem was introduced in the [LSTM paper](https://www.bioinf.jku.at/publications/older/2604.pdf) as a way to test whether an RNN could propagate information across many time steps. In the addition problem, the model is given a sequence of 2D vectors in the format:\n",
    "\n",
    "|     |      |     |     |      |     |      |     |     |     |     |\n",
    "|-----|------|-----|-----|------|-----|------|-----|-----|-----|-----|\n",
    "| 0.5 | -0.7 | 0.3 | 0.1 | -0.2 | ... | -0.5 | 0.9 | ... | 0.8 | 0.2 |\n",
    "| 0   |   0  |  1  |  0  |   0  |     |   0  |  1  |     |  0  |  0  |\n",
    "\n",
    "The first dimension of each vector in the sequence is a random number between 0 and 1. The second dimension is 0 for all entries of the sequence expect for 2, where it is 1. The goal of the addition problem is to output the sum of the values in the first dimension at the two indices where the second dimension is 1. In the example above, the target would be 0.9 + 0.3 = 1.2. Below is a code snippet which generates a sequence and its target for the addition problem."
   ]
  },
  {
   "cell_type": "code",
   "execution_count": 2,
   "metadata": {},
   "outputs": [],
   "source": [
    "import numpy as np\n",
    "\n",
    "def addition_problem(sequence_length=50):\n",
    "    output = np.random.uniform(-1, 1, (sequence_length, 2))\n",
    "    output[:, 0] = 0.\n",
    "    random_indices = np.random.choice(sequence_length, size=2, replace=False)\n",
    "    output[random_indices, [0, 0]] = 1\n",
    "    return output, (output[:, 0]*output[:, 1]).sum(keepdims=True)"
   ]
  },
  {
   "cell_type": "markdown",
   "metadata": {},
   "source": [
    "Attention pooling is a form of attention that allows a model to solve the addition problem without using an RNN. In attention pooling, the query vector $q$ is a *learnable parameter*. The keys and values are both the input sequence. Specifically, given a sequence $\\{h_1, h_2, \\ldots, h_T\\}$, attention pooling computes\n",
    "\\begin{align}\n",
    "e_t &= \\mathrm{a}(q, h_t) \\\\\n",
    "\\alpha_t &= \\frac{\\exp(e_t)}{\\sum_k \\exp(e_k)} \\\\\n",
    "c &= \\sum_{t = 1}^T \\alpha_t h_t\n",
    "\\end{align}\n",
    "where $\\mathrm{a}(q, h_t)$ is the attention energy function. Note that c will always be a fixed-length vector (which amounts to a weighted average of the elements of the sequence $h$) regardless of how long the sequence is (i.e. the value of $T$). $\\mathrm{a}(q, h_t)$ can be any function that takes in a single entry of the sequence $h_t$ and outputs an unnormalizes scalar value. One option is to use\n",
    "$$\\mathrm{a}(q, h_t) = q^\\top \\tanh(W_a h_t + b_a)$$\n",
    "where $q \\in \\mathbb{R}^q$, $W_a \\in \\mathbb{R}^{q \\times d}$, and $b_a \\in \\mathbb{R}^q$ are learnable parameters, and $d$ is the dimensionality of $h_t$ (i.e. $h_t \\in \\mathbb{R}^d$).\n",
    "\n",
    "\n",
    "1. Build and train a neural network that uses attention pooling to solve the addition problem. The model should output a scalar which corresponds to the target value for the addition problem (i.e. the sum of the sequence entries that are marked with a \"1\"). Here, \"solved\" means that the squared error of the model's predicitons is always below $0.05$. Use a sequence length of $50$ (which is the default for the `addition_problem` function defined above). *Hints*:\n",
    "  1. This is a regression problem. Your model should predict a continuous scalar value and you can use a squared-error loss.\n",
    "  1. The point of the attention pooling layer is to allow you to put it in an otherwise feed-forward network. So, consider just using simple dense feed-forward layers before and/or after the attention pooling layer. To start, you can try the architecture: feed-forward, attention pooling, feed-forward, output layer.\n",
    "  1. If you are finding that the model is getting stuck at a non-zero squared error, it could be that it's just outputting the mean value and having trouble learning a good solution. Try different initialization, nonlinearities, architecture, learning rate, etc.\n",
    "1. Once you have trained a model that gets solid performance at sequence length $50$, plot the model's average squared error for sequence lengths $50, 55, 65, 80, 100, 125, 150$. You should generate this plot by averaging the squared error over at least $100$ sequences of a given length. Does the model's error get worse (go up) for longer sequences, or does it generalize to longer sequence lengths?"
   ]
  },
  {
   "cell_type": "code",
   "execution_count": 3,
   "metadata": {},
   "outputs": [
    {
     "name": "stdout",
     "output_type": "stream",
     "text": [
      "cuda:1\n"
     ]
    }
   ],
   "source": [
    "import collections\n",
    "import math\n",
    "import torch\n",
    "from torch import nn\n",
    "from d2l import torch as d2l\n",
    "import numpy as np\n",
    "import time\n",
    "import torch\n",
    "\n",
    "import torch.utils.data as data_utils\n",
    "from torch.optim.lr_scheduler import StepLR\n",
    "from sklearn.model_selection import train_test_split\n",
    "\n",
    "import copy\n",
    "from tqdm.notebook import tqdm\n",
    "from sklearn.metrics import mean_squared_error\n",
    "\n",
    "seedy = 666\n",
    "torch.manual_seed(seedy)\n",
    "from torch.utils.data import random_split\n",
    "\n",
    "device = torch.device(\"cuda:1\" if torch.cuda.is_available() else \"cpu\")\n",
    "print(device)"
   ]
  },
  {
   "cell_type": "raw",
   "metadata": {},
   "source": [
    "The point of the attention pooling is to transform an input from shape (batch_size, sequence_length, n_features) to (batch_size, n_features). This is done by taking a (weighted) average over the sequence length dimension. Once you perform this transformation, you get a single vector for each input example in the batch, regardless of the sequence length. This allows you to compute a single loss for each example in the batch.\n",
    "\n",
    "(32, 50, 2) --> (32, 2) "
   ]
  },
  {
   "cell_type": "raw",
   "metadata": {},
   "source": [
    "* in self-attention, keys and queries are the same !!!\n",
    "* keys, values, queries, and the output of the attn layer must all be the same. (i think its the \"embedding dim\".)\n",
    "\n",
    "seq is of length 3, and dim 5.\n",
    "there are 3 inputs.\n",
    "\n",
    "1) key for input: multiply input by the key matrix to get its input-specific key representation.\n",
    "2) value for input: multiply input by the value matrix to get its input-specific value representation.\n",
    "3) query for input: multiply input by the query matrix to get its input-specific query representation.\n",
    "\n",
    "After you get everyone's keys, values, and queries, we can do attention...\n",
    "4) attn for input: [query • key for key in keys] = attn; softmax(attn) ... attn will be 3D bc queries are 3D.\n",
    "5) apply attn for input: [val•attn_single for val, attn_single in zip(vals,attn)] = res; \n",
    "6) take sum(res) such that the result ... will give vector that is same length as value (3). "
   ]
  },
  {
   "cell_type": "code",
   "execution_count": 4,
   "metadata": {},
   "outputs": [],
   "source": [
    "def train_model(train_loader, val_loader, model, optimizer, batch_size, num_epochs):\n",
    "    \n",
    "    train_loss = []\n",
    "    train_err = []\n",
    "    val_loss = []\n",
    "    val_err = []\n",
    "    \n",
    "    running = - math.inf\n",
    "    current = running\n",
    "    best_run = 0\n",
    "    best_model = copy.deepcopy(model.state_dict())\n",
    "    \n",
    "    for epoch in tqdm(range(num_epochs), total=num_epochs):\n",
    "        print(\"Epoch\",epoch+1)\n",
    "        for phase in ['train','validate']:\n",
    "            running_loss = 0.0\n",
    "            running_err = 0.0\n",
    "            if phase=='train':\n",
    "                loader = train_loader\n",
    "                model.train()\n",
    "            else:\n",
    "                loader = val_loader\n",
    "                model.eval()\n",
    "                \n",
    "            for inputs,labels in loader:  # for inputs,labels in tqdm(loader, total=len(loader)):\n",
    "                inputs = inputs.to(device)\n",
    "                labels = labels.to(device)\n",
    "                optimizer.zero_grad()\n",
    "                with torch.set_grad_enabled(phase=='train'):\n",
    "                    outputs = model(inputs)\n",
    "                    loss = criterion(outputs, labels)\n",
    "                    if phase=='train':\n",
    "                        loss.backward()                        \n",
    "                        optimizer.step()\n",
    "                running_loss += loss.item()\n",
    "                y_test = np.asarray(labels.cpu())\n",
    "                y_pred = outputs.cpu().detach().numpy()\n",
    "                mse = mean_squared_error(y_test, y_pred)\n",
    "                err = mse\n",
    "                running_err += err\n",
    "            loss = running_loss / len(loader) \n",
    "            err =  running_err / len(loader) \n",
    "            \n",
    "            if phase=='train':\n",
    "                train_err.append(err)\n",
    "            elif phase=='validate':\n",
    "                val_err.append(err)\n",
    "                if err >= running:\n",
    "                    running = err\n",
    "                    best_run = epoch+1\n",
    "                    best_model = copy.deepcopy(model.state_dict()) \n",
    "                \n",
    "            print(\"~ %s err: %5.3f\" % (phase,err))\n",
    "            if current >= running and phase=='validate':\n",
    "                print(\"      BEST SO FAR ^ ^ ^\")\n",
    "        \n",
    "    return (best_run, best_model, train_loss, train_err, val_loss, val_err)"
   ]
  },
  {
   "cell_type": "code",
   "execution_count": 264,
   "metadata": {},
   "outputs": [],
   "source": [
    "class SelfAttention(nn.Module):\n",
    "    def __init__(self, q_dim, bias=True, dropout=0.0):\n",
    "        super(SelfAttention, self).__init__()\n",
    "        self.W_a = nn.Linear(q_dim, q_dim, bias=True)\n",
    "        self.W_q = nn.Linear(q_dim, q_dim, bias=False)\n",
    "          \n",
    "    def forward(self, h):\n",
    "        ## Input (h) is embedding of size (batch_size x len(seq) x 2)        \n",
    "        _e = torch.tanh( self.W_a(h) )\n",
    "        e = self.W_q( _e )\n",
    "        alpha = torch.softmax( e,dim=2 )\n",
    "        c = torch.sum( alpha*h, axis=1)\n",
    "        return c"
   ]
  },
  {
   "cell_type": "code",
   "execution_count": 302,
   "metadata": {},
   "outputs": [],
   "source": [
    "class KatNet(nn.Module):\n",
    "\n",
    "    def __init__(self, seq_len, drpt=0.00):\n",
    "        super(KatNet, self).__init__()\n",
    "\n",
    "        self.mlp_1 = nn.Linear(seq_len*2, seq_len*2)\n",
    "        self.bn_1 = nn.BatchNorm1d(seq_len*2)\n",
    "        self.attn = SelfAttention(q_dim=2)\n",
    "        self.mlp_2 = nn.Linear(2, 2)\n",
    "        self.bn_2 = nn.BatchNorm1d(2)\n",
    "        self.out = nn.Linear(2, 1)\n",
    "        \n",
    "        self.relu = nn.LeakyReLU()\n",
    "        self.tanh = nn.Tanh()\n",
    "\n",
    "    def forward(self, seq):\n",
    "        x = seq.view(seq.shape[0], -1)\n",
    "        x = self.mlp_1(x)\n",
    "        x = self.relu(x) \n",
    "        x = self.bn_1(x) \n",
    "\n",
    "        x = x.view(seq.shape[0],seq.shape[1],-1)\n",
    "        x = self.attn(x)\n",
    "        \n",
    "        x = self.mlp_2(x)\n",
    "        x = self.relu(x) \n",
    "\n",
    "        x = self.mlp_2(x)\n",
    "\n",
    "#         x = self.tanh(x)\n",
    "#         x = self.relu(x) \n",
    "#         x = self.bn_2(x) \n",
    "\n",
    "        x = self.out(x)\n",
    "\n",
    "        return x"
   ]
  },
  {
   "cell_type": "markdown",
   "metadata": {},
   "source": [
    "### Generate some data. Will use 10000 samples. I will do a 1/9 split for test/train."
   ]
  },
  {
   "cell_type": "code",
   "execution_count": 369,
   "metadata": {},
   "outputs": [
    {
     "name": "stdout",
     "output_type": "stream",
     "text": [
      "torch.Size([100000, 25, 2]) torch.Size([25000, 25, 2])\n"
     ]
    }
   ],
   "source": [
    "num_samps = int(100000*1.25)\n",
    "\n",
    "# # # # # # # #\n",
    "seq_len = 25\n",
    "# # # # # # # #\n",
    "\n",
    "raw = [addition_problem(seq_len) for i in range(num_samps)]\n",
    "X, y = zip(*raw)\n",
    "X, y = map(lambda tup: np.array(tup), [X, y])\n",
    "X, y = map(lambda arr: torch.from_numpy(arr), [X, y])\n",
    "\n",
    "## Split into test, train, and val sets.\n",
    "X_train, X_test, y_train, y_test = train_test_split(X, y, test_size=0.2, random_state=seedy)\n",
    "## Make tensor datasets.\n",
    "_data_train = data_utils.TensorDataset(X_train, y_train)\n",
    "data_test = data_utils.TensorDataset(X_test, y_test)\n",
    "print(X_train.shape, X_test.shape)"
   ]
  },
  {
   "cell_type": "code",
   "execution_count": 371,
   "metadata": {
    "scrolled": true
   },
   "outputs": [
    {
     "name": "stdout",
     "output_type": "stream",
     "text": [
      "90000 10000\n"
     ]
    },
    {
     "data": {
      "application/vnd.jupyter.widget-view+json": {
       "model_id": "6414530047454fe5b9da4c3fa8763f4f",
       "version_major": 2,
       "version_minor": 0
      },
      "text/plain": [
       "HBox(children=(FloatProgress(value=0.0, max=64.0), HTML(value='')))"
      ]
     },
     "metadata": {},
     "output_type": "display_data"
    },
    {
     "name": "stdout",
     "output_type": "stream",
     "text": [
      "Epoch 1\n",
      "~ train err: 0.667\n",
      "~ validate err: 0.581\n",
      "Epoch 2\n",
      "~ train err: 0.491\n",
      "~ validate err: 0.393\n",
      "Epoch 3\n",
      "~ train err: 0.283\n",
      "~ validate err: 0.209\n",
      "Epoch 4\n",
      "~ train err: 0.156\n",
      "~ validate err: 0.123\n",
      "Epoch 5\n",
      "~ train err: 0.099\n",
      "~ validate err: 0.082\n",
      "Epoch 6\n",
      "~ train err: 0.071\n",
      "~ validate err: 0.062\n",
      "Epoch 7\n",
      "~ train err: 0.057\n",
      "~ validate err: 0.050\n",
      "Epoch 8\n",
      "~ train err: 0.047\n",
      "~ validate err: 0.043\n",
      "Epoch 9\n",
      "~ train err: 0.041\n",
      "~ validate err: 0.036\n",
      "Epoch 10\n",
      "~ train err: 0.036\n",
      "~ validate err: 0.031\n",
      "Epoch 11\n",
      "~ train err: 0.033\n",
      "~ validate err: 0.028\n",
      "Epoch 12\n",
      "~ train err: 0.029\n",
      "~ validate err: 0.024\n",
      "Epoch 13\n",
      "~ train err: 0.028\n",
      "~ validate err: 0.022\n",
      "Epoch 14\n",
      "~ train err: 0.026\n",
      "~ validate err: 0.020\n",
      "Epoch 15\n",
      "~ train err: 0.024\n",
      "~ validate err: 0.019\n",
      "Epoch 16\n",
      "~ train err: 0.023\n",
      "~ validate err: 0.017\n",
      "Epoch 17\n",
      "~ train err: 0.023\n",
      "~ validate err: 0.017\n",
      "Epoch 18\n",
      "~ train err: 0.021\n",
      "~ validate err: 0.016\n",
      "Epoch 19\n",
      "~ train err: 0.020\n",
      "~ validate err: 0.016\n",
      "Epoch 20\n",
      "~ train err: 0.020\n",
      "~ validate err: 0.015\n",
      "Epoch 21\n",
      "~ train err: 0.021\n",
      "~ validate err: 0.016\n",
      "Epoch 22\n",
      "~ train err: 0.020\n",
      "~ validate err: 0.015\n",
      "Epoch 23\n",
      "~ train err: 0.019\n",
      "~ validate err: 0.014\n",
      "Epoch 24\n",
      "~ train err: 0.018\n",
      "~ validate err: 0.012\n",
      "Epoch 25\n",
      "~ train err: 0.018\n",
      "~ validate err: 0.014\n",
      "Epoch 26\n",
      "~ train err: 0.019\n",
      "~ validate err: 0.012\n",
      "Epoch 27\n",
      "~ train err: 0.017\n",
      "~ validate err: 0.014\n",
      "Epoch 28\n",
      "~ train err: 0.018\n",
      "~ validate err: 0.012\n",
      "Epoch 29\n",
      "~ train err: 0.019\n",
      "~ validate err: 0.013\n",
      "Epoch 30\n",
      "~ train err: 0.017\n",
      "~ validate err: 0.012\n",
      "Epoch 31\n",
      "~ train err: 0.017\n",
      "~ validate err: 0.011\n",
      "Epoch 32\n",
      "~ train err: 0.016\n",
      "~ validate err: 0.011\n",
      "Epoch 33\n",
      "~ train err: 0.016\n",
      "~ validate err: 0.010\n",
      "Epoch 34\n",
      "~ train err: 0.016\n",
      "~ validate err: 0.011\n",
      "Epoch 35\n",
      "~ train err: 0.017\n",
      "~ validate err: 0.011\n",
      "Epoch 36\n",
      "~ train err: 0.016\n",
      "~ validate err: 0.010\n",
      "Epoch 37\n",
      "~ train err: 0.016\n",
      "~ validate err: 0.011\n",
      "Epoch 38\n",
      "~ train err: 0.016\n",
      "~ validate err: 0.011\n",
      "Epoch 39\n",
      "~ train err: 0.016\n",
      "~ validate err: 0.009\n",
      "Epoch 40\n",
      "~ train err: 0.016\n",
      "~ validate err: 0.011\n",
      "Epoch 41\n",
      "~ train err: 0.016\n",
      "~ validate err: 0.010\n",
      "Epoch 42\n",
      "~ train err: 0.015\n",
      "~ validate err: 0.010\n",
      "Epoch 43\n",
      "~ train err: 0.015\n",
      "~ validate err: 0.010\n",
      "Epoch 44\n",
      "~ train err: 0.015\n",
      "~ validate err: 0.009\n",
      "Epoch 45\n",
      "~ train err: 0.014\n",
      "~ validate err: 0.009\n",
      "Epoch 46\n",
      "~ train err: 0.015\n",
      "~ validate err: 0.009\n",
      "Epoch 47\n",
      "~ train err: 0.014\n",
      "~ validate err: 0.009\n",
      "Epoch 48\n",
      "~ train err: 0.015\n",
      "~ validate err: 0.010\n",
      "Epoch 49\n",
      "~ train err: 0.014\n",
      "~ validate err: 0.009\n",
      "Epoch 50\n",
      "~ train err: 0.015\n",
      "~ validate err: 0.008\n",
      "Epoch 51\n",
      "~ train err: 0.014\n",
      "~ validate err: 0.008\n",
      "Epoch 52\n",
      "~ train err: 0.014\n",
      "~ validate err: 0.009\n",
      "Epoch 53\n",
      "~ train err: 0.014\n",
      "~ validate err: 0.009\n",
      "Epoch 54\n",
      "~ train err: 0.014\n",
      "~ validate err: 0.008\n",
      "Epoch 55\n",
      "~ train err: 0.014\n",
      "~ validate err: 0.008\n",
      "Epoch 56\n",
      "~ train err: 0.014\n",
      "~ validate err: 0.008\n",
      "Epoch 57\n",
      "~ train err: 0.013\n",
      "~ validate err: 0.008\n",
      "Epoch 58\n",
      "~ train err: 0.014\n",
      "~ validate err: 0.009\n",
      "Epoch 59\n",
      "~ train err: 0.014\n",
      "~ validate err: 0.008\n",
      "Epoch 60\n",
      "~ train err: 0.014\n",
      "~ validate err: 0.008\n",
      "Epoch 61\n",
      "~ train err: 0.014\n",
      "~ validate err: 0.009\n",
      "Epoch 62\n",
      "~ train err: 0.013\n",
      "~ validate err: 0.008\n",
      "Epoch 63\n",
      "~ train err: 0.014\n",
      "~ validate err: 0.008\n",
      "Epoch 64\n",
      "~ train err: 0.013\n",
      "~ validate err: 0.007\n",
      "\n"
     ]
    }
   ],
   "source": [
    "my_batchsize = 1024\n",
    "my_drpt = 0.01\n",
    "model = KatNet(seq_len, my_drpt).to(device).double() ## Need to raise to double. Stupid pytorch.\n",
    "\n",
    "num_val = int(len(_data_train)*0.1)\n",
    "num_train = len(_data_train) - num_val\n",
    "data_train, data_val = random_split(_data_train, [num_train, num_val])\n",
    "\n",
    "loader_train = data_utils.DataLoader(data_train, my_batchsize, shuffle=True)\n",
    "loader_val = data_utils.DataLoader(data_val, my_batchsize)\n",
    "\n",
    "print(num_train,num_val)\n",
    "\n",
    "my_epochs = 64\n",
    "my_lr = 0.001\n",
    "\n",
    "criterion = nn.MSELoss()\n",
    "optimizer = torch.optim.Adam(model.parameters(), lr=my_lr)\n",
    "\n",
    "s = time.time()\n",
    "br,bm,tl,ta,vl,va = train_model(loader_train,loader_val,model,optimizer,my_batchsize,my_epochs)\n",
    "e = time.time()"
   ]
  },
  {
   "cell_type": "code",
   "execution_count": 372,
   "metadata": {},
   "outputs": [
    {
     "name": "stdout",
     "output_type": "stream",
     "text": [
      "1.561 mins\n"
     ]
    }
   ],
   "source": [
    "print(\"%5.3f mins\" % ((e-s)/60))"
   ]
  },
  {
   "cell_type": "code",
   "execution_count": 373,
   "metadata": {},
   "outputs": [
    {
     "data": {
      "image/png": "[encoded data removed]",
      "text/plain": [
       "<Figure size 540x360 with 1 Axes>"
      ]
     },
     "metadata": {
      "needs_background": "light"
     },
     "output_type": "display_data"
    }
   ],
   "source": [
    "import matplotlib.pyplot as plt\n",
    "\n",
    "%matplotlib inline\n",
    "plt.figure(figsize=(7.5,5))\n",
    "plt.plot(ta,label='Train err',c='red')\n",
    "plt.plot(va,label='Val err',c='blue')\n",
    "plt.xlabel(\"Epoch\")\n",
    "plt.legend(loc='upper right',fontsize=16)\n",
    "plt.title(\"Training metrics for len(seq)=%d\" % seq_len,fontsize=14)\n",
    "plt.savefig(\"hw8_mse_len%d\" % seq_len)\n",
    "\n",
    "plt.show()"
   ]
  },
  {
   "cell_type": "code",
   "execution_count": 374,
   "metadata": {},
   "outputs": [],
   "source": [
    "def eval_model(model, loader):\n",
    "    model.eval()\n",
    "    for inputs, labels in loader:\n",
    "        inputs = inputs.to(device)\n",
    "        labels = labels.to(device)\n",
    "        outputs = model(inputs)\n",
    "        y_test = np.asarray(labels.cpu())\n",
    "        y_pred = outputs.cpu().detach().numpy()\n",
    "        mse = mean_squared_error(y_test, y_pred)\n",
    "        return y_test,y_pred,mse"
   ]
  },
  {
   "cell_type": "code",
   "execution_count": 375,
   "metadata": {},
   "outputs": [],
   "source": [
    "my_batchsize = 1000\n",
    "loader_test = data_utils.DataLoader(data_test, my_batchsize, shuffle=True)\n",
    "res_y_test,res_y_pred,res_mse = eval_model(model, loader_test)"
   ]
  },
  {
   "cell_type": "code",
   "execution_count": 376,
   "metadata": {},
   "outputs": [
    {
     "name": "stdout",
     "output_type": "stream",
     "text": [
      "0.006737692710837154\n"
     ]
    }
   ],
   "source": [
    "print(res_mse)"
   ]
  },
  {
   "cell_type": "raw",
   "metadata": {},
   "source": [
    "50  0.01699094563714196\n",
    "55  0.01588235919823697\n",
    "65  0.07175528446551482\n",
    "80  0.03743441403874655\n",
    "100 0.19674573123791192\n",
    "125 0.32403050343116196\n",
    "150 0.4957209874437373"
   ]
  },
  {
   "cell_type": "code",
   "execution_count": 377,
   "metadata": {},
   "outputs": [
    {
     "data": {
      "text/plain": [
       "0.006737692710837154"
      ]
     },
     "execution_count": 377,
     "metadata": {},
     "output_type": "execute_result"
    }
   ],
   "source": [
    "res_mse"
   ]
  },
  {
   "cell_type": "code",
   "execution_count": 378,
   "metadata": {},
   "outputs": [
    {
     "data": {
      "image/png": "[encoded data removed]",
      "text/plain": [
       "<Figure size 540x360 with 1 Axes>"
      ]
     },
     "metadata": {
      "needs_background": "light"
     },
     "output_type": "display_data"
    }
   ],
   "source": [
    "x = [25, 50, 55, 65, 80, 100, 125, 150]\n",
    "y = [0.006737692710837154, 0.01199094563714196, 0.01588235919823697, 0.03743441403874655, 0.07175528446551482, 0.19674573123791192,\n",
    "    0.32403050343116196, 0.4957209874437373]\n",
    "\n",
    "plt.rcParams.update({'font.size': 16})\n",
    "\n",
    "plt.figure(figsize=(7.5,5))\n",
    "plt.plot(x,y,c='orange')\n",
    "plt.xlabel(\"Length of sequence\")\n",
    "plt.ylabel(\"MSE on 1000 test sequences\")\n",
    "\n",
    "plt.title(\"Seq length vs. test set MSE\")\n",
    "plt.savefig(\"hw8_lengths_small\")"
   ]
  },
  {
   "cell_type": "code",
   "execution_count": null,
   "metadata": {},
   "outputs": [],
   "source": []
  },
  {
   "cell_type": "code",
   "execution_count": 406,
   "metadata": {
    "scrolled": false
   },
   "outputs": [
    {
     "data": {
      "image/png": "[encoded data removed]",
      "text/plain": [
       "<Figure size 864x864 with 1 Axes>"
      ]
     },
     "metadata": {
      "needs_background": "light"
     },
     "output_type": "display_data"
    }
   ],
   "source": [
    "from matplotlib import pyplot as plt\n",
    "plt.rcParams.update({'font.size': 16})\n",
    "\n",
    "fig = plt.figure(figsize=(12,12))\n",
    "ax = fig.add_subplot(111)\n",
    "\n",
    "plt.plot(x,y,\"b:\")\n",
    "plt.scatter(x, y, s=75, c=\"b\")\n",
    "plt.xlim(10,180)\n",
    "\n",
    "for it,(i,j) in enumerate(zip(x,y)):\n",
    "    if it<=1:\n",
    "        ax.annotate('%s)' %_j, xy=(i,j), xytext=(-52,15), textcoords='offset points', bbox=my_box)\n",
    "        ax.annotate('(%s,' %i, xy=(i,j), xytext=(-90,15), textcoords='offset points', bbox=my_box)\n",
    "        continue\n",
    "    _j = round(j,3)\n",
    "    \n",
    "    my_box = dict(facecolor='white', edgecolor='white', boxstyle='round,pad=.25')\n",
    "    if i>=100:\n",
    "        off = 60\n",
    "    else:\n",
    "        off = 52\n",
    "    ax.annotate('%s)' %_j, xy=(i,j), xytext=(off,-9), textcoords='offset points', bbox=my_box)\n",
    "    ax.annotate('(%s,' %i, xy=(i,j), xytext=(12,-9), textcoords='offset points', bbox=my_box)\n",
    "\n",
    "plt.xlabel(\"Length of sequence\")\n",
    "plt.ylabel(\"MSE on 1000 test sequences\")\n",
    "\n",
    "plt.title(\"Seq length vs. test set MSE\")\n",
    "plt.grid()\n",
    "plt.savefig(\"hw8_lengths\")\n",
    "\n",
    "\n",
    "plt.show()"
   ]
  },
  {
   "cell_type": "code",
   "execution_count": null,
   "metadata": {},
   "outputs": [],
   "source": []
  },
  {
   "cell_type": "code",
   "execution_count": null,
   "metadata": {},
   "outputs": [],
   "source": []
  },
  {
   "cell_type": "code",
   "execution_count": null,
   "metadata": {},
   "outputs": [],
   "source": []
  },
  {
   "cell_type": "code",
   "execution_count": null,
   "metadata": {},
   "outputs": [],
   "source": []
  },
  {
   "cell_type": "code",
   "execution_count": null,
   "metadata": {},
   "outputs": [],
   "source": []
  },
  {
   "cell_type": "code",
   "execution_count": null,
   "metadata": {},
   "outputs": [],
   "source": []
  },
  {
   "cell_type": "code",
   "execution_count": null,
   "metadata": {},
   "outputs": [],
   "source": []
  },
  {
   "cell_type": "code",
   "execution_count": null,
   "metadata": {},
   "outputs": [],
   "source": []
  },
  {
   "cell_type": "code",
   "execution_count": null,
   "metadata": {},
   "outputs": [],
   "source": []
  },
  {
   "cell_type": "code",
   "execution_count": null,
   "metadata": {},
   "outputs": [],
   "source": []
  },
  {
   "cell_type": "raw",
   "metadata": {},
   "source": [
    "0.016497002705012507 ... 0.001 lr"
   ]
  },
  {
   "cell_type": "code",
   "execution_count": null,
   "metadata": {},
   "outputs": [],
   "source": []
  },
  {
   "cell_type": "raw",
   "metadata": {},
   "source": [
    "50 0.006116450749246914 3.354min\n"
   ]
  }
 ],
 "metadata": {
  "kernelspec": {
   "display_name": "Python 3",
   "language": "python",
   "name": "python3"
  },
  "language_info": {
   "codemirror_mode": {
    "name": "ipython",
    "version": 3
   },
   "file_extension": ".py",
   "mimetype": "text/x-python",
   "name": "python",
   "nbconvert_exporter": "python",
   "pygments_lexer": "ipython3",
   "version": "3.8.3"
  }
 },
 "nbformat": 4,
 "nbformat_minor": 4
}
