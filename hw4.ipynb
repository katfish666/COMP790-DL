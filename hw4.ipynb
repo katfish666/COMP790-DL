{
 "cells": [
  {
   "cell_type": "raw",
   "metadata": {},
   "source": [
    "citations: \n",
    "https://zhenye-na.github.io/2018/09/28/pytorch-cnn-cifar10.html\n",
    "https://becominghuman.ai/build-your-own-neural-network-for-cifar-10-using-pytorch-9bdffb389b7a"
   ]
  },
  {
   "cell_type": "code",
   "execution_count": 1,
   "metadata": {},
   "outputs": [],
   "source": [
    "from tqdm import tqdm_notebook\n",
    "\n",
    "import warnings\n",
    "warnings.filterwarnings('ignore')\n",
    "warnings.simplefilter('ignore')"
   ]
  },
  {
   "cell_type": "code",
   "execution_count": 2,
   "metadata": {},
   "outputs": [],
   "source": [
    "import torch\n",
    "import torchvision\n",
    "import torchvision.transforms as transforms\n",
    "import numpy as np\n",
    "import matplotlib.pyplot as plt\n",
    "import torch.nn as nn\n",
    "import torch.nn.functional as F\n",
    "from torch.utils.data.dataloader import DataLoader\n",
    "from torch.utils.data import random_split\n",
    "from sklearn.metrics import accuracy_score\n",
    "from torch import optim\n",
    "import time\n",
    "import copy\n",
    "import math\n",
    "from torch.optim.lr_scheduler import StepLR"
   ]
  },
  {
   "cell_type": "code",
   "execution_count": 3,
   "metadata": {},
   "outputs": [
    {
     "name": "stdout",
     "output_type": "stream",
     "text": [
      "cuda:1\n"
     ]
    }
   ],
   "source": [
    "seedy = 666\n",
    "device = torch.device(\"cuda:1\" if torch.cuda.is_available() else \"cpu\")\n",
    "print(device)"
   ]
  },
  {
   "cell_type": "code",
   "execution_count": 4,
   "metadata": {},
   "outputs": [],
   "source": [
    "transform_train = transforms.Compose([\n",
    "    transforms.RandomCrop(32, padding=4),\n",
    "    transforms.RandomHorizontalFlip(),\n",
    "    transforms.ToTensor(),\n",
    "    transforms.Normalize((0.4914, 0.4822, 0.4465), (0.2023, 0.1994, 0.2010)),])\n",
    "\n",
    "# Normalize the test set same as training set without augmentation\n",
    "transform_test = transforms.Compose([\n",
    "    transforms.ToTensor(),\n",
    "    transforms.Normalize((0.4914, 0.4822, 0.4465), (0.2023, 0.1994, 0.2010)),])"
   ]
  },
  {
   "cell_type": "code",
   "execution_count": 5,
   "metadata": {},
   "outputs": [
    {
     "name": "stdout",
     "output_type": "stream",
     "text": [
      "Files already downloaded and verified\n",
      "Files already downloaded and verified\n"
     ]
    }
   ],
   "source": [
    "trainset = torchvision.datasets.CIFAR10(root='data/', train=True, download=True, transform=transform_train)\n",
    "testset = torchvision.datasets.CIFAR10(root='data/', train=False, download=True, transform=transform_test)\n",
    "\n",
    "# trainset = torchvision.datasets.CIFAR10(\n",
    "#     root='data/', train=True, download=False, transform=ToTensor())\n",
    "# testset = torchvision.datasets.CIFAR10(\n",
    "#     root='data/', train=False, download=False, transform=ToTensor())"
   ]
  },
  {
   "cell_type": "markdown",
   "metadata": {},
   "source": [
    "## Looking at the data."
   ]
  },
  {
   "cell_type": "code",
   "execution_count": 6,
   "metadata": {},
   "outputs": [
    {
     "name": "stdout",
     "output_type": "stream",
     "text": [
      "50000\n",
      "10000\n",
      "['airplane', 'automobile', 'bird', 'cat', 'deer', 'dog', 'frog', 'horse', 'ship', 'truck']\n"
     ]
    }
   ],
   "source": [
    "print(len(trainset))\n",
    "print(len(testset))\n",
    "classes = trainset.classes\n",
    "print(classes)"
   ]
  },
  {
   "cell_type": "code",
   "execution_count": 7,
   "metadata": {},
   "outputs": [
    {
     "name": "stderr",
     "output_type": "stream",
     "text": [
      "Clipping input data to the valid range for imshow with RGB data ([0..1] for floats or [0..255] for integers).\n"
     ]
    },
    {
     "name": "stdout",
     "output_type": "stream",
     "text": [
      "Image dimensions: torch.Size([3, 32, 32])\n",
      "Index: 34800\n",
      "Label (numeric): 9\n",
      "Label (textual): truck\n"
     ]
    },
    {
     "data": {
      "image/png": "[encoded data removed]",
      "text/plain": [
       "<Figure size 432x288 with 1 Axes>"
      ]
     },
     "metadata": {
      "needs_background": "light"
     },
     "output_type": "display_data"
    }
   ],
   "source": [
    "idx = np.random.randint(0,len(trainset))\n",
    "\n",
    "img, label = trainset[idx]\n",
    "img_shape = img.shape\n",
    "print(\"Image dimensions:\", img_shape)\n",
    "\n",
    "plt.imshow(img.permute((1, 2, 0)))\n",
    "print('Index:', idx)\n",
    "print('Label (numeric):', label)\n",
    "print('Label (textual):', classes[label])"
   ]
  },
  {
   "cell_type": "code",
   "execution_count": 22,
   "metadata": {},
   "outputs": [],
   "source": [
    "class CNN(nn.Module):\n",
    "\n",
    "    def __init__(self, drpt=0.05):\n",
    "        super(CNN, self).__init__()\n",
    "\n",
    "        self.conv_layer = nn.Sequential(\n",
    "\n",
    "            # Conv Layer block 1\n",
    "            nn.Conv2d(in_channels=3, out_channels=32, kernel_size=3, padding=1),\n",
    "            nn.BatchNorm2d(32),\n",
    "            nn.LeakyReLU(inplace=True),\n",
    "            nn.Conv2d(in_channels=32, out_channels=64, kernel_size=3, padding=1),\n",
    "            nn.LeakyReLU(inplace=True),\n",
    "            nn.MaxPool2d(kernel_size=2, stride=2),\n",
    "\n",
    "            # Conv Layer block 2\n",
    "            nn.Conv2d(in_channels=64, out_channels=128, kernel_size=3, padding=1),\n",
    "            nn.BatchNorm2d(128),\n",
    "            nn.LeakyReLU(inplace=True),\n",
    "            nn.Conv2d(in_channels=128, out_channels=128, kernel_size=3, padding=1),\n",
    "            nn.LeakyReLU(inplace=True),\n",
    "            nn.MaxPool2d(kernel_size=2, stride=2),\n",
    "            nn.Dropout2d(p=drpt),\n",
    "\n",
    "            # Conv Layer block 3\n",
    "            nn.Conv2d(in_channels=128, out_channels=256, kernel_size=3, padding=1),\n",
    "            nn.BatchNorm2d(256),\n",
    "            nn.LeakyReLU(inplace=True),\n",
    "            nn.Conv2d(in_channels=256, out_channels=256, kernel_size=3, padding=1),\n",
    "            nn.LeakyReLU(inplace=True),\n",
    "            nn.MaxPool2d(kernel_size=2, stride=2),\n",
    "        )\n",
    "\n",
    "        self.fc_layer = nn.Sequential(\n",
    "            nn.Dropout(p=drpt*2),\n",
    "            nn.Linear(4096, 1024),\n",
    "            nn.LeakyReLU(inplace=True),\n",
    "            nn.Linear(1024, 512),\n",
    "            nn.LeakyReLU(inplace=True),\n",
    "            nn.Dropout(p=drpt*2),\n",
    "            nn.Linear(512, 10)\n",
    "        )\n",
    "\n",
    "    def forward(self, x):\n",
    "        # conv layers\n",
    "        x = self.conv_layer(x)\n",
    "        # flatten\n",
    "        x = x.view(x.size(0), -1)\n",
    "        # fc layer\n",
    "        x = self.fc_layer(x)\n",
    "        return x"
   ]
  },
  {
   "cell_type": "code",
   "execution_count": 23,
   "metadata": {},
   "outputs": [],
   "source": [
    "def eval_model(model, loader, thresh=0.5):\n",
    "    model.eval()\n",
    "    for inputs, labels in loader:\n",
    "        inputs = inputs.float().to(device)\n",
    "        labels = labels.float().to(device)\n",
    "        outputs = model(inputs)\n",
    "        y_test = np.asarray(labels.cpu())\n",
    "        y_score = outputs.cpu().detach().numpy()\n",
    "        y_pred = np.argmax(y_score,axis=1)\n",
    "        acc = accuracy_score(y_test,y_pred)    \n",
    "        return y_test, y_score, acc"
   ]
  },
  {
   "cell_type": "code",
   "execution_count": 24,
   "metadata": {},
   "outputs": [],
   "source": [
    "def train_model(train_loader, val_loader, model, optimizer, batch_size, num_epochs, stopper='loss'):\n",
    "    \n",
    "    train_loss = []\n",
    "    train_acc = []\n",
    "    val_loss = []\n",
    "    val_acc = []\n",
    "    \n",
    "    running = - math.inf\n",
    "    current = running\n",
    "    \n",
    "    best_run = 0\n",
    "    best_model = copy.deepcopy(model.state_dict())\n",
    "    \n",
    "    for epoch in tqdm_notebook(range(num_epochs), total=num_epochs):\n",
    "#         scheduler.step()\n",
    "        print(\"Epoch\",epoch+1)\n",
    "        \n",
    "        for phase in ['train','validate']:\n",
    "            running_loss = 0.0\n",
    "            running_acc = 0.0\n",
    "            \n",
    "            if phase=='train':\n",
    "                loader = train_loader\n",
    "                model.train()\n",
    "            else:\n",
    "                loader = val_loader\n",
    "                model.eval()\n",
    "                \n",
    "#             for inputs,labels in tqdm_notebook(loader, total=len(loader)):\n",
    "            for inputs,labels in loader:\n",
    "                inputs = inputs.to(device)\n",
    "                labels = labels.to(device)\n",
    "                \n",
    "                optimizer.zero_grad()\n",
    "                with torch.set_grad_enabled(phase=='train'):\n",
    "                    outputs = model(inputs)\n",
    "                    loss = criterion(outputs, labels)\n",
    "                    if phase=='train':\n",
    "                        loss.backward()                        \n",
    "                        optimizer.step()\n",
    "                running_loss += loss.item()\n",
    "\n",
    "                y_test = np.asarray(labels.cpu())\n",
    "                y_score = outputs.cpu().detach().numpy()\n",
    "                y_pred = np.argmax(y_score,axis=1)\n",
    "\n",
    "                acc = accuracy_score(y_test,y_pred)\n",
    "                running_acc += acc\n",
    "            \n",
    "            loss = running_loss / len(loader) \n",
    "            acc =  running_acc / len(loader) \n",
    "            \n",
    "            if phase=='train':\n",
    "                train_loss.append(loss)\n",
    "                train_acc.append(acc)\n",
    "                \n",
    "            elif phase=='validate':\n",
    "                val_loss.append(loss)\n",
    "                val_acc.append(acc)\n",
    "                \n",
    "                if stopper=='loss':\n",
    "                    current = -loss\n",
    "                elif stopper=='acc':\n",
    "                    current = acc\n",
    "                if current >= running:\n",
    "                    running = current\n",
    "                    best_run = epoch+1\n",
    "                    best_model = copy.deepcopy(model.state_dict()) \n",
    "                \n",
    "            print(\"~ %s LOSS: %5.3f | ACC: %5.3f\" % (phase,loss,acc))\n",
    "            if current >= running and phase=='validate':\n",
    "                print(\"      BEST SO FAR ^ ^ ^\")\n",
    "        \n",
    "    return (best_run, best_model, train_loss, train_acc, val_loss, val_acc)"
   ]
  },
  {
   "cell_type": "code",
   "execution_count": 25,
   "metadata": {},
   "outputs": [
    {
     "name": "stdout",
     "output_type": "stream",
     "text": [
      "45000 5000\n"
     ]
    }
   ],
   "source": [
    "torch.manual_seed(seedy)\n",
    "val_size = 5000\n",
    "train_size = len(trainset) - val_size\n",
    "train_ds, val_ds = random_split(trainset, [train_size, val_size])\n",
    "\n",
    "print(len(train_ds), len(val_ds))"
   ]
  },
  {
   "cell_type": "code",
   "execution_count": 26,
   "metadata": {},
   "outputs": [
    {
     "data": {
      "application/vnd.jupyter.widget-view+json": {
       "model_id": "42f30b3c8977499db3e4ccea92cce39d",
       "version_major": 2,
       "version_minor": 0
      },
      "text/plain": [
       "HBox(children=(FloatProgress(value=0.0, max=30.0), HTML(value='')))"
      ]
     },
     "metadata": {},
     "output_type": "display_data"
    },
    {
     "name": "stdout",
     "output_type": "stream",
     "text": [
      "Epoch 1\n",
      "~ train LOSS: 1.617 | ACC: 0.387\n",
      "~ validate LOSS: 1.452 | ACC: 0.452\n",
      "      BEST SO FAR ^ ^ ^\n",
      "Epoch 2\n",
      "~ train LOSS: 1.182 | ACC: 0.571\n",
      "~ validate LOSS: 1.109 | ACC: 0.599\n",
      "      BEST SO FAR ^ ^ ^\n",
      "Epoch 3\n",
      "~ train LOSS: 0.974 | ACC: 0.656\n",
      "~ validate LOSS: 0.907 | ACC: 0.679\n",
      "      BEST SO FAR ^ ^ ^\n",
      "Epoch 4\n",
      "~ train LOSS: 0.845 | ACC: 0.705\n",
      "~ validate LOSS: 0.776 | ACC: 0.730\n",
      "      BEST SO FAR ^ ^ ^\n",
      "Epoch 5\n",
      "~ train LOSS: 0.752 | ACC: 0.740\n",
      "~ validate LOSS: 0.798 | ACC: 0.717\n",
      "Epoch 6\n",
      "~ train LOSS: 0.674 | ACC: 0.767\n",
      "~ validate LOSS: 0.627 | ACC: 0.778\n",
      "      BEST SO FAR ^ ^ ^\n",
      "Epoch 7\n",
      "~ train LOSS: 0.621 | ACC: 0.787\n",
      "~ validate LOSS: 0.588 | ACC: 0.796\n",
      "      BEST SO FAR ^ ^ ^\n",
      "Epoch 8\n",
      "~ train LOSS: 0.564 | ACC: 0.807\n",
      "~ validate LOSS: 0.604 | ACC: 0.798\n",
      "      BEST SO FAR ^ ^ ^\n",
      "Epoch 9\n",
      "~ train LOSS: 0.533 | ACC: 0.818\n",
      "~ validate LOSS: 0.532 | ACC: 0.816\n",
      "      BEST SO FAR ^ ^ ^\n",
      "Epoch 10\n",
      "~ train LOSS: 0.505 | ACC: 0.826\n",
      "~ validate LOSS: 0.567 | ACC: 0.809\n",
      "Epoch 11\n",
      "~ train LOSS: 0.474 | ACC: 0.837\n",
      "~ validate LOSS: 0.494 | ACC: 0.832\n",
      "      BEST SO FAR ^ ^ ^\n",
      "Epoch 12\n",
      "~ train LOSS: 0.446 | ACC: 0.847\n",
      "~ validate LOSS: 0.489 | ACC: 0.831\n",
      "Epoch 13\n",
      "~ train LOSS: 0.426 | ACC: 0.854\n",
      "~ validate LOSS: 0.498 | ACC: 0.839\n",
      "      BEST SO FAR ^ ^ ^\n",
      "Epoch 14\n",
      "~ train LOSS: 0.408 | ACC: 0.860\n",
      "~ validate LOSS: 0.475 | ACC: 0.847\n",
      "      BEST SO FAR ^ ^ ^\n",
      "Epoch 15\n",
      "~ train LOSS: 0.392 | ACC: 0.866\n",
      "~ validate LOSS: 0.505 | ACC: 0.836\n",
      "Epoch 16\n",
      "~ train LOSS: 0.369 | ACC: 0.873\n",
      "~ validate LOSS: 0.478 | ACC: 0.845\n",
      "Epoch 17\n",
      "~ train LOSS: 0.356 | ACC: 0.877\n",
      "~ validate LOSS: 0.466 | ACC: 0.854\n",
      "      BEST SO FAR ^ ^ ^\n",
      "Epoch 18\n",
      "~ train LOSS: 0.341 | ACC: 0.882\n",
      "~ validate LOSS: 0.434 | ACC: 0.860\n",
      "      BEST SO FAR ^ ^ ^\n",
      "Epoch 19\n",
      "~ train LOSS: 0.326 | ACC: 0.887\n",
      "~ validate LOSS: 0.456 | ACC: 0.855\n",
      "Epoch 20\n",
      "~ train LOSS: 0.316 | ACC: 0.891\n",
      "~ validate LOSS: 0.431 | ACC: 0.859\n",
      "Epoch 21\n",
      "~ train LOSS: 0.304 | ACC: 0.895\n",
      "~ validate LOSS: 0.445 | ACC: 0.859\n",
      "Epoch 22\n",
      "~ train LOSS: 0.296 | ACC: 0.898\n",
      "~ validate LOSS: 0.410 | ACC: 0.870\n",
      "      BEST SO FAR ^ ^ ^\n",
      "Epoch 23\n",
      "~ train LOSS: 0.291 | ACC: 0.899\n",
      "~ validate LOSS: 0.401 | ACC: 0.874\n",
      "      BEST SO FAR ^ ^ ^\n",
      "Epoch 24\n",
      "~ train LOSS: 0.275 | ACC: 0.904\n",
      "~ validate LOSS: 0.407 | ACC: 0.872\n",
      "Epoch 25\n",
      "~ train LOSS: 0.266 | ACC: 0.909\n",
      "~ validate LOSS: 0.435 | ACC: 0.865\n",
      "Epoch 26\n",
      "~ train LOSS: 0.252 | ACC: 0.914\n",
      "~ validate LOSS: 0.448 | ACC: 0.862\n",
      "Epoch 27\n",
      "~ train LOSS: 0.253 | ACC: 0.914\n",
      "~ validate LOSS: 0.398 | ACC: 0.877\n",
      "      BEST SO FAR ^ ^ ^\n",
      "Epoch 28\n",
      "~ train LOSS: 0.242 | ACC: 0.915\n",
      "~ validate LOSS: 0.381 | ACC: 0.877\n",
      "      BEST SO FAR ^ ^ ^\n",
      "Epoch 29\n",
      "~ train LOSS: 0.237 | ACC: 0.918\n",
      "~ validate LOSS: 0.446 | ACC: 0.864\n",
      "Epoch 30\n",
      "~ train LOSS: 0.228 | ACC: 0.921\n",
      "~ validate LOSS: 0.399 | ACC: 0.878\n",
      "      BEST SO FAR ^ ^ ^\n",
      "\n",
      "3.569 mins\n"
     ]
    }
   ],
   "source": [
    "s = time.time()\n",
    "\n",
    "my_stopper = 'acc'\n",
    "my_batch = 128\n",
    "my_epochs = 30\n",
    "my_lr = 0.001\n",
    "drpt = 0.075\n",
    "\n",
    "train_loader = DataLoader(train_ds, my_batch, shuffle=True, num_workers=4, pin_memory=True)\n",
    "val_loader = DataLoader(val_ds, my_batch*2, num_workers=4, pin_memory=True)\n",
    "test_loader = DataLoader(testset, my_batch*2, num_workers=4, pin_memory=True)\n",
    "\n",
    "model = CNN(drpt).to(device)\n",
    "\n",
    "criterion = nn.CrossEntropyLoss()\n",
    "optimizer = optim.Adam(model.parameters(), lr=my_lr)\n",
    "scheduler = StepLR(optimizer, step_size=1, gamma=0.1)\n",
    "\n",
    "(best_run, best_model, train_losses, train_accs, val_losses, val_accs) = \\\n",
    "                train_model(train_loader, val_loader,\n",
    "                            model, optimizer,my_batch, \n",
    "                            my_epochs,my_stopper)\n",
    "\n",
    "print(\"%5.3f mins\" % ((time.time()-s)/60))"
   ]
  },
  {
   "cell_type": "code",
   "execution_count": 27,
   "metadata": {},
   "outputs": [
    {
     "data": {
      "image/png": "[encoded data removed]",
      "text/plain": [
       "<Figure size 540x360 with 1 Axes>"
      ]
     },
     "metadata": {
      "needs_background": "light"
     },
     "output_type": "display_data"
    }
   ],
   "source": [
    "%matplotlib inline\n",
    "plt.figure(figsize=(7.5,5))\n",
    "plt.plot(train_losses,label='Train loss',c='blue')\n",
    "plt.plot(val_losses,label='Val loss',c='green')\n",
    "plt.plot(train_accs,label='Train acc',c='red')\n",
    "plt.plot(val_accs,label='Val acc',c='orange')\n",
    "plt.xlabel(\"Epoch\")\n",
    "plt.legend(loc='upper right')\n",
    "# plt.savefig(\"loss-acc\")\n",
    "\n",
    "plt.show()"
   ]
  },
  {
   "cell_type": "code",
   "execution_count": 28,
   "metadata": {},
   "outputs": [
    {
     "name": "stdout",
     "output_type": "stream",
     "text": [
      "Accuracy on test set: 0.90234375\n"
     ]
    }
   ],
   "source": [
    "y_test, y_score, acc = eval_model(model,test_loader)\n",
    "print(\"Accuracy on test set:\",acc)"
   ]
  },
  {
   "cell_type": "raw",
   "metadata": {},
   "source": [
    "Random notes:\n",
    "\n",
    "https://machinelearningmastery.com/how-to-develop-a-cnn-from-scratch-for-cifar-10-photo-classification/\n",
    "- Baseline + Dropout: 83.450%\n",
    "- Baseline + Weight Decay: 72.550%\n",
    "- Baseline + Data Augmentation: 84.470%"
   ]
  },
  {
   "cell_type": "raw",
   "metadata": {},
   "source": [
    "bests:\n",
    "0.855\n",
    "0.875\n",
    "0.848\n",
    "0.902"
   ]
  }
 ],
 "metadata": {
  "kernelspec": {
   "display_name": "Python 3",
   "language": "python",
   "name": "python3"
  },
  "language_info": {
   "codemirror_mode": {
    "name": "ipython",
    "version": 3
   },
   "file_extension": ".py",
   "mimetype": "text/x-python",
   "name": "python",
   "nbconvert_exporter": "python",
   "pygments_lexer": "ipython3",
   "version": "3.8.3"
  }
 },
 "nbformat": 4,
 "nbformat_minor": 4
}
